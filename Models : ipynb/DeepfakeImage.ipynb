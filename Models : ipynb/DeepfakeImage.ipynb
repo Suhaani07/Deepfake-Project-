{
  "metadata": {
    "kernelspec": {
      "language": "python",
      "display_name": "Python 3",
      "name": "python3"
    },
    "language_info": {
      "name": "python",
      "version": "3.10.12",
      "mimetype": "text/x-python",
      "codemirror_mode": {
        "name": "ipython",
        "version": 3
      },
      "pygments_lexer": "ipython3",
      "nbconvert_exporter": "python",
      "file_extension": ".py"
    },
    "kaggle": {
      "accelerator": "nvidiaTeslaT4",
      "dataSources": [
        {
          "sourceId": 16880,
          "databundleVersionId": 858837,
          "sourceType": "competition"
        },
        {
          "sourceId": 924245,
          "sourceType": "datasetVersion",
          "datasetId": 464091
        }
      ],
      "isInternetEnabled": true,
      "language": "python",
      "sourceType": "notebook",
      "isGpuEnabled": true
    },
    "colab": {
      "provenance": []
    }
  },
  "nbformat_minor": 0,
  "nbformat": 4,
  "cells": [
    {
      "source": [
        "import sys\n",
        "import sklearn\n",
        "import tensorflow as tf\n",
        "import cv2\n",
        "import pandas as pd\n",
        "import numpy as np\n",
        "from matplotlib import pyplot as plt\n",
        "import os\n",
        "import sys\n",
        "from tempfile import NamedTemporaryFile\n",
        "from urllib.request import urlopen\n",
        "from urllib.parse import unquote, urlparse\n",
        "from urllib.error import HTTPError\n",
        "from zipfile import ZipFile\n",
        "import tarfile\n",
        "import shutil\n",
        "\n",
        "CHUNK_SIZE = 40960\n",
        "DATA_SOURCE_MAPPING = 'deepfake-faces:https%3A%2F%2Fstorage.googleapis.com%2Fkaggle-data-sets%2F464091%2F924245%2Fbundle%2Farchive.zip%3FX-Goog-Algorithm%3DGOOG4-RSA-SHA256%26X-Goog-Credential%3Dgcp-kaggle-com%2540kaggle-161607.iam.gserviceaccount.com%252F20240224%252Fauto%252Fstorage%252Fgoog4_request%26X-Goog-Date%3D20240224T080809Z%26X-Goog-Expires%3D259200%26X-Goog-SignedHeaders%3Dhost%26X-Goog-Signature%3D276dd2f3fa746bb1d70137060dbc8dc59c41c976d2c78bfba98ac0ca33de81a0569c9418fe0bcfbc40bd57cbe5e1f221c0d7e8824bb3b11a0c376d2f37a8b7788fec55abc61ca6d36766acd3483363e7f30f7def390db811cb935fae422918b84c3126741e0c849b15e3afb7d24636a7e213324d6055a49e4379d1998ada7dc289e1c5f28e4e44c89c89c8a95b2fac4203492bedccefaa28920ab5b682cf7d851252fbac0b36585b246b21957b856708460325d3fe7e89df3c3ea7774ff74286c143d534eff3cd070c0d04e90c08096d25bae09525e052448f099c690365c2477a618b2436267fcf2d4fc950c57e0bb7060132f96e9e0396167d486999663ebd'\n",
        "\n",
        "KAGGLE_INPUT_PATH='/kaggle/input'\n",
        "KAGGLE_WORKING_PATH='/kaggle/working'\n",
        "KAGGLE_SYMLINK='kaggle'\n",
        "\n",
        "!umount /kaggle/input/ 2> /dev/null\n",
        "shutil.rmtree('/kaggle/input', ignore_errors=True)\n",
        "os.makedirs(KAGGLE_INPUT_PATH, 0o777, exist_ok=True)\n",
        "os.makedirs(KAGGLE_WORKING_PATH, 0o777, exist_ok=True)\n",
        "\n",
        "try:\n",
        "  os.symlink(KAGGLE_INPUT_PATH, os.path.join(\"..\", 'input'), target_is_directory=True)\n",
        "except FileExistsError:\n",
        "  pass\n",
        "try:\n",
        "  os.symlink(KAGGLE_WORKING_PATH, os.path.join(\"..\", 'working'), target_is_directory=True)\n",
        "except FileExistsError:\n",
        "  pass\n",
        "\n",
        "for data_source_mapping in DATA_SOURCE_MAPPING.split(','):\n",
        "    directory, download_url_encoded = data_source_mapping.split(':')\n",
        "    download_url = unquote(download_url_encoded)\n",
        "    filename = urlparse(download_url).path\n",
        "    destination_path = os.path.join(KAGGLE_INPUT_PATH, directory)\n",
        "    try:\n",
        "        with urlopen(download_url) as fileres, NamedTemporaryFile() as tfile:\n",
        "            total_length = fileres.headers['content-length']\n",
        "            print(f'Downloading {directory}, {total_length} bytes compressed')\n",
        "            dl = 0\n",
        "            data = fileres.read(CHUNK_SIZE)\n",
        "            while len(data) > 0:\n",
        "                dl += len(data)\n",
        "                tfile.write(data)\n",
        "                done = int(50 * dl / int(total_length))\n",
        "                sys.stdout.write(f\"\\r[{'=' * done}{' ' * (50-done)}] {dl} bytes downloaded\")\n",
        "                sys.stdout.flush()\n",
        "                data = fileres.read(CHUNK_SIZE)\n",
        "            if filename.endswith('.zip'):\n",
        "              with ZipFile(tfile) as zfile:\n",
        "                zfile.extractall(destination_path)\n",
        "            else:\n",
        "              with tarfile.open(tfile.name) as tarfile:\n",
        "                tarfile.extractall(destination_path)\n",
        "            print(f'\\nDownloaded and uncompressed: {directory}')\n",
        "    except HTTPError as e:\n",
        "        print(f'Failed to load (likely expired) {download_url} to path {destination_path}')\n",
        "        continue\n",
        "    except OSError as e:\n",
        "        print(f'Failed to load {download_url} to path {destination_path}')\n",
        "        continue\n",
        "\n",
        "print('Data source import complete.')\n"
      ],
      "metadata": {
        "colab": {
          "base_uri": "https://localhost:8080/",
          "height": 0
        },
        "id": "6iWhc8o7bZ6M",
        "outputId": "fdb7cdaa-bf87-4065-975a-e24915c15e6c"
      },
      "cell_type": "code",
      "outputs": [
        {
          "output_type": "stream",
          "name": "stdout",
          "text": [
            "Downloading deepfake-faces, 454127868 bytes compressed\n",
            "[==================================================] 454127868 bytes downloaded\n",
            "Downloaded and uncompressed: deepfake-faces\n",
            "Data source import complete.\n"
          ]
        }
      ],
      "execution_count": 1
    },
    {
      "cell_type": "markdown",
      "source": [
        "## Importing Required libraries"
      ],
      "metadata": {
        "id": "dFXIv9qNpKzt",
        "tags": []
      }
    },
    {
      "cell_type": "code",
      "source": [
        "pip install plotly\n",
        "import plotly.graph_objs as go\n",
        "from plotly.offline import iplot"
      ],
      "metadata": {
        "execution": {
          "iopub.status.busy": "2024-01-18T15:02:52.528525Z",
          "iopub.execute_input": "2024-01-18T15:02:52.528802Z",
          "iopub.status.idle": "2024-01-18T15:03:04.199881Z",
          "shell.execute_reply.started": "2024-01-18T15:02:52.528773Z",
          "shell.execute_reply": "2024-01-18T15:03:04.198709Z"
        },
        "trusted": true,
        "colab": {
          "base_uri": "https://localhost:8080/"
        },
        "id": "KwDBTPHdbZ6P",
        "outputId": "55d64e72-d1be-4916-a262-f9d57509103e"
      },
      "execution_count": null,
      "outputs": [
        {
          "output_type": "stream",
          "name": "stdout",
          "text": [
            "Requirement already satisfied: plotly in /usr/local/lib/python3.10/dist-packages (5.15.0)\n",
            "Requirement already satisfied: tenacity>=6.2.0 in /usr/local/lib/python3.10/dist-packages (from plotly) (8.2.3)\n",
            "Requirement already satisfied: packaging in /usr/local/lib/python3.10/dist-packages (from plotly) (23.2)\n"
          ]
        }
      ]
    },
    {
      "cell_type": "code",
      "source": [
        "import matplotlib.pyplot as plt\n",
        "\n",
        "plt.rc('font', size=14)\n",
        "plt.rc('axes', labelsize=14, titlesize=14)\n",
        "plt.rc('legend', fontsize=14)\n",
        "plt.rc('xtick', labelsize=10)\n",
        "plt.rc('ytick', labelsize=10)"
      ],
      "metadata": {
        "id": "8d4TH3NbpKzx",
        "execution": {
          "iopub.status.busy": "2024-01-18T14:31:41.501854Z",
          "iopub.execute_input": "2024-01-18T14:31:41.502213Z",
          "iopub.status.idle": "2024-01-18T14:31:41.507901Z",
          "shell.execute_reply.started": "2024-01-18T14:31:41.502184Z",
          "shell.execute_reply": "2024-01-18T14:31:41.506885Z"
        },
        "trusted": true
      },
      "execution_count": null,
      "outputs": []
    },
    {
      "cell_type": "markdown",
      "source": [
        "## Data Visualisation"
      ],
      "metadata": {
        "id": "NL3Ht4wC9b3n"
      }
    },
    {
      "cell_type": "code",
      "source": [
        "def get_data():\n",
        "    return pd.read_csv('../input/deepfake-faces/metadata.csv')\n",
        "\n",
        "\n",
        "meta=get_data()\n",
        "meta.head()"
      ],
      "metadata": {
        "id": "jfv9PxSB4tM8",
        "execution": {
          "iopub.status.busy": "2024-01-18T14:31:45.291932Z",
          "iopub.execute_input": "2024-01-18T14:31:45.292352Z",
          "iopub.status.idle": "2024-01-18T14:31:45.296676Z",
          "shell.execute_reply.started": "2024-01-18T14:31:45.292321Z",
          "shell.execute_reply": "2024-01-18T14:31:45.295836Z"
        },
        "trusted": true
      },
      "execution_count": null,
      "outputs": []
    },
    {
      "cell_type": "code",
      "source": [
        "real_im = meta[meta[\"label\"] == \"REAL\"]\n",
        "fake_im = meta[meta[\"label\"] == \"FAKE\"]\n",
        "sample_size = 8000\n",
        "\n",
        "real_im = real_im.sample(sample_size, random_state=42)\n",
        "fake_im = fake_im.sample(sample_size, random_state=42)\n",
        "\n",
        "sample_meta = pd.concat([real_im, fake_im])"
      ],
      "metadata": {
        "id": "IgMfzY-PjjtH",
        "execution": {
          "iopub.status.busy": "2024-01-18T14:33:24.356049Z",
          "iopub.execute_input": "2024-01-18T14:33:24.356404Z",
          "iopub.status.idle": "2024-01-18T14:33:24.409236Z",
          "shell.execute_reply.started": "2024-01-18T14:33:24.356374Z",
          "shell.execute_reply": "2024-01-18T14:33:24.408269Z"
        },
        "trusted": true
      },
      "execution_count": null,
      "outputs": []
    },
    {
      "cell_type": "code",
      "source": [
        "from sklearn.model_selection import train_test_split\n",
        "\n",
        "Train_set, Test_set = train_test_split(sample_meta,test_size=0.2,random_state=0,stratify=sample_meta['label'])\n",
        "Train_set, Val_set  = train_test_split(Train_set,test_size=0.3,random_state=0,stratify=Train_set['label'])"
      ],
      "metadata": {
        "id": "5eB86S6K-T5Z",
        "execution": {
          "iopub.status.busy": "2024-01-18T14:38:56.146179Z",
          "iopub.execute_input": "2024-01-18T14:38:56.146934Z",
          "iopub.status.idle": "2024-01-18T14:38:56.328871Z",
          "shell.execute_reply.started": "2024-01-18T14:38:56.146898Z",
          "shell.execute_reply": "2024-01-18T14:38:56.328051Z"
        },
        "trusted": true
      },
      "execution_count": null,
      "outputs": []
    },
    {
      "cell_type": "markdown",
      "source": [
        "The original image dataset were biased with more fake images than real since we are taking a sample of it its better to take equal proportion of real and fake images."
      ],
      "metadata": {
        "id": "7bk0M6iNbZ6R"
      }
    },
    {
      "cell_type": "markdown",
      "source": [
        "## Modelling"
      ],
      "metadata": {
        "id": "dOvN_divkl-N"
      }
    },
    {
      "cell_type": "markdown",
      "source": [
        "Before jumping to use pretrained model lets develop some base line model to test how our pretrained model outperforms."
      ],
      "metadata": {
        "id": "nLLh9Q_tbZ6R"
      }
    },
    {
      "cell_type": "markdown",
      "source": [
        "### Custom CNN Architecture"
      ],
      "metadata": {
        "id": "oid44Xx-pKz6"
      }
    },
    {
      "cell_type": "code",
      "source": [
        "def retreive_dataset(set_name):\n",
        "    images,labels=[],[]\n",
        "    for (img, imclass) in zip(set_name['videoname'], set_name['label']):\n",
        "        images.append(cv2.imread('../input/deepfake-faces/faces_224/'+img[:-4]+'.jpg'))\n",
        "        if(imclass=='FAKE'):\n",
        "            labels.append(1)\n",
        "        else:\n",
        "            labels.append(0)\n",
        "\n",
        "    return np.array(images),np.array(labels)"
      ],
      "metadata": {
        "id": "Hz0ZdQ_fgHhG",
        "execution": {
          "iopub.status.busy": "2024-01-18T14:40:15.7694Z",
          "iopub.execute_input": "2024-01-18T14:40:15.769782Z",
          "iopub.status.idle": "2024-01-18T14:40:15.776324Z",
          "shell.execute_reply.started": "2024-01-18T14:40:15.76975Z",
          "shell.execute_reply": "2024-01-18T14:40:15.775396Z"
        },
        "trusted": true
      },
      "execution_count": null,
      "outputs": []
    },
    {
      "cell_type": "code",
      "source": [
        "X_train,y_train=retreive_dataset(Train_set)\n",
        "X_val,y_val=retreive_dataset(Val_set)\n",
        "X_test,y_test=retreive_dataset(Test_set)"
      ],
      "metadata": {
        "id": "zeAGRcAbguKU",
        "execution": {
          "iopub.status.busy": "2024-01-18T14:40:17.471292Z",
          "iopub.execute_input": "2024-01-18T14:40:17.471674Z",
          "iopub.status.idle": "2024-01-18T14:42:00.474274Z",
          "shell.execute_reply.started": "2024-01-18T14:40:17.471643Z",
          "shell.execute_reply": "2024-01-18T14:42:00.47346Z"
        },
        "trusted": true
      },
      "execution_count": null,
      "outputs": []
    },
    {
      "cell_type": "code",
      "source": [
        "from functools import partial\n",
        "\n",
        "tf.random.set_seed(42)\n",
        "DefaultConv2D = partial(tf.keras.layers.Conv2D, kernel_size=3, padding=\"same\",\n",
        "                        activation=\"relu\", kernel_initializer=\"he_normal\")\n",
        "\n",
        "model = tf.keras.Sequential([\n",
        "    DefaultConv2D(filters=64, kernel_size=7, input_shape=[224, 224, 3]),\n",
        "    tf.keras.layers.MaxPool2D(),\n",
        "    DefaultConv2D(filters=128),\n",
        "    DefaultConv2D(filters=128),\n",
        "    tf.keras.layers.MaxPool2D(),\n",
        "    tf.keras.layers.Flatten(),\n",
        "    tf.keras.layers.Dense(units=128, activation=\"relu\",\n",
        "                          kernel_initializer=\"he_normal\"),\n",
        "    tf.keras.layers.Dropout(0.5),\n",
        "    tf.keras.layers.Dense(units=64, activation=\"relu\",\n",
        "                          kernel_initializer=\"he_normal\"),\n",
        "    tf.keras.layers.Dropout(0.5),\n",
        "    tf.keras.layers.Dense(units=1, activation=\"sigmoid\")\n",
        "])"
      ],
      "metadata": {
        "id": "34upiak4pKz6",
        "execution": {
          "iopub.status.busy": "2024-01-18T14:42:17.559096Z",
          "iopub.execute_input": "2024-01-18T14:42:17.559458Z",
          "iopub.status.idle": "2024-01-18T14:42:18.268694Z",
          "shell.execute_reply.started": "2024-01-18T14:42:17.559428Z",
          "shell.execute_reply": "2024-01-18T14:42:18.267931Z"
        },
        "trusted": true
      },
      "execution_count": null,
      "outputs": []
    },
    {
      "cell_type": "code",
      "source": [
        "from functools import partial\n",
        "import tensorflow as tf\n",
        "\n",
        "tf.random.set_seed(0)\n",
        "DefaultConv2D = partial(tf.keras.layers.Conv2D, kernel_size=3, padding=\"same\",\n",
        "                        activation=\"relu\", kernel_initializer=\"he_normal\")\n",
        "\n",
        "model = tf.keras.Sequential([\n",
        "    tf.keras.layers.Input(shape=[224, 224, 3]),\n",
        "    DefaultConv2D(filters=64, kernel_size=7),\n",
        "    tf.keras.layers.MaxPool2D(),\n",
        "    DefaultConv2D(filters=128),\n",
        "    DefaultConv2D(filters=128),\n",
        "    tf.keras.layers.MaxPool2D(),\n",
        "    tf.keras.layers.Flatten(),\n",
        "    tf.keras.layers.Dense(units=128, activation=\"relu\",\n",
        "                          kernel_initializer=\"he_normal\"),\n",
        "    tf.keras.layers.Dropout(0.5),\n",
        "    tf.keras.layers.Dense(units=64, activation=\"relu\",\n",
        "                          kernel_initializer=\"he_normal\"),\n",
        "    tf.keras.layers.Dropout(0.5),\n",
        "    tf.keras.layers.Dense(units=1, activation=\"sigmoid\")\n",
        "])"
      ],
      "metadata": {
        "execution": {
          "iopub.status.busy": "2024-01-18T14:44:42.161896Z",
          "iopub.execute_input": "2024-01-18T14:44:42.163138Z",
          "iopub.status.idle": "2024-01-18T14:44:42.958115Z",
          "shell.execute_reply.started": "2024-01-18T14:44:42.163091Z",
          "shell.execute_reply": "2024-01-18T14:44:42.957214Z"
        },
        "trusted": true,
        "id": "tmKpiCQrbZ6S"
      },
      "execution_count": null,
      "outputs": []
    },
    {
      "cell_type": "code",
      "source": [
        "model.compile(loss=\"binary_crossentropy\", optimizer=\"nadam\",\n",
        "              metrics=[\"accuracy\"])\n",
        "model.summary()"
      ],
      "metadata": {
        "execution": {
          "iopub.status.busy": "2024-01-18T14:44:52.061742Z",
          "iopub.execute_input": "2024-01-18T14:44:52.062672Z",
          "iopub.status.idle": "2024-01-18T14:44:52.095548Z",
          "shell.execute_reply.started": "2024-01-18T14:44:52.062637Z",
          "shell.execute_reply": "2024-01-18T14:44:52.094715Z"
        },
        "trusted": true,
        "colab": {
          "base_uri": "https://localhost:8080/"
        },
        "id": "5AyqAxfPbZ6S",
        "outputId": "71291b71-bf4a-4bc8-c9ea-930ad8413445"
      },
      "execution_count": null,
      "outputs": [
        {
          "output_type": "stream",
          "name": "stdout",
          "text": [
            "Model: \"sequential_1\"\n",
            "_________________________________________________________________\n",
            " Layer (type)                Output Shape              Param #   \n",
            "=================================================================\n",
            " conv2d_3 (Conv2D)           (None, 224, 224, 64)      9472      \n",
            "                                                                 \n",
            " max_pooling2d_2 (MaxPoolin  (None, 112, 112, 64)      0         \n",
            " g2D)                                                            \n",
            "                                                                 \n",
            " conv2d_4 (Conv2D)           (None, 112, 112, 128)     73856     \n",
            "                                                                 \n",
            " conv2d_5 (Conv2D)           (None, 112, 112, 128)     147584    \n",
            "                                                                 \n",
            " max_pooling2d_3 (MaxPoolin  (None, 56, 56, 128)       0         \n",
            " g2D)                                                            \n",
            "                                                                 \n",
            " flatten_1 (Flatten)         (None, 401408)            0         \n",
            "                                                                 \n",
            " dense_3 (Dense)             (None, 128)               51380352  \n",
            "                                                                 \n",
            " dropout_2 (Dropout)         (None, 128)               0         \n",
            "                                                                 \n",
            " dense_4 (Dense)             (None, 64)                8256      \n",
            "                                                                 \n",
            " dropout_3 (Dropout)         (None, 64)                0         \n",
            "                                                                 \n",
            " dense_5 (Dense)             (None, 1)                 65        \n",
            "                                                                 \n",
            "=================================================================\n",
            "Total params: 51619585 (196.91 MB)\n",
            "Trainable params: 51619585 (196.91 MB)\n",
            "Non-trainable params: 0 (0.00 Byte)\n",
            "_________________________________________________________________\n"
          ]
        }
      ]
    },
    {
      "cell_type": "code",
      "source": [
        "history = model.fit(X_train, y_train, epochs=1,batch_size=64,\n",
        "                    validation_data=(X_val, y_val))"
      ],
      "metadata": {
        "id": "KZbWeIBYpKz6",
        "outputId": "f378343c-7f66-460c-e9b4-a17df44aa4d0",
        "execution": {
          "iopub.status.busy": "2024-01-18T14:45:32.981738Z",
          "iopub.execute_input": "2024-01-18T14:45:32.982095Z"
        },
        "trusted": true,
        "colab": {
          "base_uri": "https://localhost:8080/"
        }
      },
      "execution_count": null,
      "outputs": [
        {
          "output_type": "stream",
          "name": "stdout",
          "text": [
            "140/140 [==============================] - 5337s 38s/step - loss: 51.1844 - accuracy: 0.5026 - val_loss: 0.6933 - val_accuracy: 0.4995\n"
          ]
        }
      ]
    },
    {
      "cell_type": "code",
      "source": [
        "model.save('model1.keras')\n",
        "from google.colab import files\n",
        "files.download('model1.keras')"
      ],
      "metadata": {
        "execution": {
          "iopub.status.busy": "2023-12-09T08:08:36.09402Z",
          "iopub.execute_input": "2023-12-09T08:08:36.094394Z",
          "iopub.status.idle": "2023-12-09T08:08:37.814971Z",
          "shell.execute_reply.started": "2023-12-09T08:08:36.094356Z",
          "shell.execute_reply": "2023-12-09T08:08:37.813988Z"
        },
        "trusted": true,
        "colab": {
          "base_uri": "https://localhost:8080/",
          "height": 34
        },
        "id": "AHCYSqZxbZ6S",
        "outputId": "a22031a9-b83d-4673-befb-c96e5cbbe689"
      },
      "execution_count": null,
      "outputs": [
        {
          "output_type": "display_data",
          "data": {
            "text/plain": [
              "<IPython.core.display.Javascript object>"
            ],
            "application/javascript": [
              "\n",
              "    async function download(id, filename, size) {\n",
              "      if (!google.colab.kernel.accessAllowed) {\n",
              "        return;\n",
              "      }\n",
              "      const div = document.createElement('div');\n",
              "      const label = document.createElement('label');\n",
              "      label.textContent = `Downloading \"${filename}\": `;\n",
              "      div.appendChild(label);\n",
              "      const progress = document.createElement('progress');\n",
              "      progress.max = size;\n",
              "      div.appendChild(progress);\n",
              "      document.body.appendChild(div);\n",
              "\n",
              "      const buffers = [];\n",
              "      let downloaded = 0;\n",
              "\n",
              "      const channel = await google.colab.kernel.comms.open(id);\n",
              "      // Send a message to notify the kernel that we're ready.\n",
              "      channel.send({})\n",
              "\n",
              "      for await (const message of channel.messages) {\n",
              "        // Send a message to notify the kernel that we're ready.\n",
              "        channel.send({})\n",
              "        if (message.buffers) {\n",
              "          for (const buffer of message.buffers) {\n",
              "            buffers.push(buffer);\n",
              "            downloaded += buffer.byteLength;\n",
              "            progress.value = downloaded;\n",
              "          }\n",
              "        }\n",
              "      }\n",
              "      const blob = new Blob(buffers, {type: 'application/binary'});\n",
              "      const a = document.createElement('a');\n",
              "      a.href = window.URL.createObjectURL(blob);\n",
              "      a.download = filename;\n",
              "      div.appendChild(a);\n",
              "      a.click();\n",
              "      div.remove();\n",
              "    }\n",
              "  "
            ]
          },
          "metadata": {}
        },
        {
          "output_type": "display_data",
          "data": {
            "text/plain": [
              "<IPython.core.display.Javascript object>"
            ],
            "application/javascript": [
              "download(\"download_7f1e8243-479c-4018-b55d-6a4aab387a59\", \"my_model.keras\", 619485929)"
            ]
          },
          "metadata": {}
        }
      ]
    },
    {
      "cell_type": "code",
      "source": [
        "score = model.evaluate(X_test, y_test)"
      ],
      "metadata": {
        "id": "6HDDr4uehast",
        "execution": {
          "iopub.status.busy": "2023-12-09T08:08:37.816027Z",
          "iopub.execute_input": "2023-12-09T08:08:37.816304Z",
          "iopub.status.idle": "2023-12-09T08:09:04.546865Z",
          "shell.execute_reply.started": "2023-12-09T08:08:37.816258Z",
          "shell.execute_reply": "2023-12-09T08:09:04.546024Z"
        },
        "trusted": true
      },
      "execution_count": null,
      "outputs": []
    },
    {
      "cell_type": "code",
      "source": [
        "from sklearn.metrics import accuracy_score, f1_score, confusion_matrix, roc_curve, auc\n",
        "import matplotlib.pyplot as plt\n",
        "\n",
        "y_pred = model.predict(X_test)\n",
        "y_pred_binary = (y_pred > 0.5).astype(int)\n",
        "accuracy = accuracy_score(y_test, y_pred_binary)\n",
        "print(f'Accuracy: {accuracy}')"
      ],
      "metadata": {
        "execution": {
          "iopub.status.busy": "2023-12-09T08:09:04.548244Z",
          "iopub.execute_input": "2023-12-09T08:09:04.548603Z",
          "iopub.status.idle": "2023-12-09T08:09:30.272892Z",
          "shell.execute_reply.started": "2023-12-09T08:09:04.548569Z",
          "shell.execute_reply": "2023-12-09T08:09:30.271978Z"
        },
        "trusted": true,
        "id": "cCWSYywSbZ6S"
      },
      "execution_count": null,
      "outputs": []
    },
    {
      "cell_type": "code",
      "source": [
        "conf_matrix = confusion_matrix(y_test, y_pred_binary)\n",
        "print('Confusion Matrix:')\n",
        "print(conf_matrix)"
      ],
      "metadata": {
        "execution": {
          "iopub.status.busy": "2023-12-09T08:09:30.304651Z",
          "iopub.execute_input": "2023-12-09T08:09:30.30507Z",
          "iopub.status.idle": "2023-12-09T08:09:30.312072Z",
          "shell.execute_reply.started": "2023-12-09T08:09:30.305026Z",
          "shell.execute_reply": "2023-12-09T08:09:30.311145Z"
        },
        "trusted": true,
        "id": "JNagg566bZ6T"
      },
      "execution_count": null,
      "outputs": []
    },
    {
      "cell_type": "markdown",
      "source": [
        "# Xception model\n"
      ],
      "metadata": {
        "id": "hqxnSBJ3pKz8"
      }
    },
    {
      "cell_type": "code",
      "source": [
        "train_set_raw=tf.data.Dataset.from_tensor_slices((X_train,y_train))\n",
        "valid_set_raw=tf.data.Dataset.from_tensor_slices((X_val,y_val))\n",
        "test_set_raw=tf.data.Dataset.from_tensor_slices((X_test,y_test))"
      ],
      "metadata": {
        "execution": {
          "iopub.status.busy": "2023-12-09T08:09:35.518072Z",
          "iopub.execute_input": "2023-12-09T08:09:35.518298Z",
          "iopub.status.idle": "2023-12-09T08:09:38.522478Z",
          "shell.execute_reply.started": "2023-12-09T08:09:35.518262Z",
          "shell.execute_reply": "2023-12-09T08:09:38.52166Z"
        },
        "trusted": true,
        "id": "kP8iuFNZbZ6a"
      },
      "execution_count": null,
      "outputs": []
    },
    {
      "cell_type": "code",
      "source": [
        "tf.keras.backend.clear_session()\n",
        "batch_size = 32\n",
        "preprocess = tf.keras.applications.xception.preprocess_input\n",
        "train_set = train_set_raw.map(lambda X, y: (preprocess(tf.cast(X, tf.float32)), y))\n",
        "train_set = train_set.shuffle(1000, seed=42).batch(batch_size).prefetch(1)\n",
        "valid_set = valid_set_raw.map(lambda X, y: (preprocess(tf.cast(X, tf.float32)), y)).batch(batch_size)\n",
        "test_set = test_set_raw.map(lambda X, y: (preprocess(tf.cast(X, tf.float32)), y)).batch(batch_size)"
      ],
      "metadata": {
        "id": "Bnz0n9XApKz9",
        "execution": {
          "iopub.status.busy": "2023-12-09T08:09:38.523562Z",
          "iopub.execute_input": "2023-12-09T08:09:38.523845Z",
          "iopub.status.idle": "2023-12-09T08:09:38.720903Z",
          "shell.execute_reply.started": "2023-12-09T08:09:38.523814Z",
          "shell.execute_reply": "2023-12-09T08:09:38.720213Z"
        },
        "trusted": true
      },
      "execution_count": null,
      "outputs": []
    },
    {
      "cell_type": "code",
      "source": [
        "data_augmentation = tf.keras.Sequential([\n",
        "    tf.keras.layers.RandomFlip(mode=\"horizontal\", seed=42),\n",
        "    tf.keras.layers.RandomRotation(factor=0.05, seed=42),\n",
        "    tf.keras.layers.RandomContrast(factor=0.2, seed=42)\n",
        "])"
      ],
      "metadata": {
        "id": "Ib0cA8Y1pKz9",
        "execution": {
          "iopub.status.busy": "2023-12-09T08:09:40.181384Z",
          "iopub.execute_input": "2023-12-09T08:09:40.181634Z",
          "iopub.status.idle": "2023-12-09T08:09:40.195862Z",
          "shell.execute_reply.started": "2023-12-09T08:09:40.181608Z",
          "shell.execute_reply": "2023-12-09T08:09:40.195172Z"
        },
        "trusted": true
      },
      "execution_count": null,
      "outputs": []
    },
    {
      "cell_type": "markdown",
      "source": [
        "Load pretrained model without top layers\n"
      ],
      "metadata": {
        "id": "kNL9AOsDpKz-"
      }
    },
    {
      "cell_type": "code",
      "source": [
        "tf.random.set_seed(42)\n",
        "base_model = tf.keras.applications.xception.Xception(weights=\"imagenet\",\n",
        "                                                     include_top=False)\n",
        "avg = tf.keras.layers.GlobalAveragePooling2D()(base_model.output)\n",
        "output = tf.keras.layers.Dense(1, activation=\"sigmoid\")(avg)\n",
        "model = tf.keras.Model(inputs=base_model.input, outputs=output)\n",
        "\n",
        "for layer in base_model.layers:\n",
        "    layer.trainable = False"
      ],
      "metadata": {
        "id": "lRyCgvaKpKz-",
        "outputId": "20d950fd-e5ac-4c3a-e918-b581d5ac65ab",
        "execution": {
          "iopub.status.busy": "2023-12-09T08:09:41.776943Z",
          "iopub.execute_input": "2023-12-09T08:09:41.777189Z",
          "iopub.status.idle": "2023-12-09T08:09:43.870669Z",
          "shell.execute_reply.started": "2023-12-09T08:09:41.777164Z",
          "shell.execute_reply": "2023-12-09T08:09:43.869916Z"
        },
        "trusted": true,
        "colab": {
          "base_uri": "https://localhost:8080/"
        }
      },
      "execution_count": null,
      "outputs": [
        {
          "output_type": "stream",
          "name": "stdout",
          "text": [
            "Downloading data from https://storage.googleapis.com/tensorflow/keras-applications/xception/xception_weights_tf_dim_ordering_tf_kernels_notop.h5\n",
            "83683744/83683744 [==============================] - 0s 0us/step\n"
          ]
        }
      ]
    },
    {
      "cell_type": "markdown",
      "source": [
        "fix base model weights\n"
      ],
      "metadata": {
        "id": "WFEFw7GKpKz-"
      }
    },
    {
      "cell_type": "code",
      "source": [
        "optimizer = tf.keras.optimizers.SGD(learning_rate=0.1, momentum=0.9)\n",
        "model.compile(loss=\"binary_crossentropy\", optimizer=optimizer,\n",
        "              metrics=[\"accuracy\"])\n",
        "history = model.fit(train_set, validation_data=valid_set, epochs=2)"
      ],
      "metadata": {
        "id": "GGxK2yPcpKz-",
        "outputId": "8e678b75-f207-4a46-ce8c-f8c5c5b62303",
        "execution": {
          "iopub.status.busy": "2023-12-09T08:09:43.880176Z",
          "iopub.execute_input": "2023-12-09T08:09:43.880432Z",
          "iopub.status.idle": "2023-12-09T08:20:10.941026Z",
          "shell.execute_reply.started": "2023-12-09T08:09:43.880404Z",
          "shell.execute_reply": "2023-12-09T08:20:10.940128Z"
        },
        "trusted": true,
        "colab": {
          "base_uri": "https://localhost:8080/"
        }
      },
      "execution_count": null,
      "outputs": [
        {
          "output_type": "stream",
          "name": "stdout",
          "text": [
            "Epoch 1/2\n",
            "280/280 [==============================] - 2794s 10s/step - loss: 1.1202 - accuracy: 0.5711 - val_loss: 0.8552 - val_accuracy: 0.6143\n",
            "Epoch 2/2\n",
            "280/280 [==============================] - 2821s 10s/step - loss: 0.8918 - accuracy: 0.6155 - val_loss: 0.8153 - val_accuracy: 0.6294\n"
          ]
        }
      ]
    },
    {
      "cell_type": "code",
      "source": [
        "model.evaluate(test_set)"
      ],
      "metadata": {
        "execution": {
          "iopub.status.busy": "2023-12-09T08:20:10.97301Z",
          "iopub.execute_input": "2023-12-09T08:20:10.973296Z",
          "iopub.status.idle": "2023-12-09T08:21:02.363463Z",
          "shell.execute_reply.started": "2023-12-09T08:20:10.973253Z",
          "shell.execute_reply": "2023-12-09T08:21:02.362579Z"
        },
        "trusted": true,
        "id": "CGXhczEhbZ6b"
      },
      "execution_count": null,
      "outputs": []
    },
    {
      "cell_type": "code",
      "source": [
        "model.save('model2.h5')\n",
        "from google.colab import files\n",
        "files.download('model2.h5')"
      ],
      "metadata": {
        "execution": {
          "iopub.status.busy": "2023-12-09T08:21:02.364759Z",
          "iopub.execute_input": "2023-12-09T08:21:02.365096Z",
          "iopub.status.idle": "2023-12-09T08:21:02.73191Z",
          "shell.execute_reply.started": "2023-12-09T08:21:02.365061Z",
          "shell.execute_reply": "2023-12-09T08:21:02.731037Z"
        },
        "trusted": true,
        "id": "ZhDpyfhdbZ6c"
      },
      "execution_count": null,
      "outputs": []
    },
    {
      "cell_type": "markdown",
      "source": [
        "#  Unfreeze upper layer and reduce learning rate to avoid overfitting"
      ],
      "metadata": {
        "id": "L_bEwL8KpKz_"
      }
    },
    {
      "cell_type": "code",
      "source": [
        "for layer in base_model.layers[56:]:\n",
        "    layer.trainable = True\n",
        "\n",
        "optimizer = tf.keras.optimizers.SGD(learning_rate=0.01, momentum=0.9)\n",
        "model.compile(loss=\"binary_crossentropy\", optimizer=optimizer,\n",
        "              metrics=[\"accuracy\"])\n",
        "history = model.fit(train_set, epochs=2)"
      ],
      "metadata": {
        "id": "GEUNGlhvpKz_",
        "outputId": "f19d9e9d-cbf6-4cb7-afef-d4adbcee82f5",
        "execution": {
          "iopub.status.busy": "2023-12-09T08:21:02.733236Z",
          "iopub.execute_input": "2023-12-09T08:21:02.733559Z"
        },
        "trusted": true,
        "colab": {
          "base_uri": "https://localhost:8080/"
        }
      },
      "execution_count": null,
      "outputs": [
        {
          "output_type": "stream",
          "name": "stdout",
          "text": [
            "Epoch 1/2\n"
          ]
        }
      ]
    },
    {
      "cell_type": "code",
      "source": [
        "model.save('xception_deepfake_image.h5')\n",
        "from google.colab import files\n",
        "files.download('xception_deepfake_image.h5')"
      ],
      "metadata": {
        "execution": {
          "iopub.status.busy": "2023-12-09T09:02:08.52496Z",
          "iopub.execute_input": "2023-12-09T09:02:08.525392Z",
          "iopub.status.idle": "2023-12-09T09:02:09.118948Z",
          "shell.execute_reply.started": "2023-12-09T09:02:08.525359Z",
          "shell.execute_reply": "2023-12-09T09:02:09.118127Z"
        },
        "trusted": true,
        "id": "47ef9dFvbZ6c"
      },
      "execution_count": null,
      "outputs": []
    },
    {
      "cell_type": "code",
      "source": [
        "model.evaluate(test_set)"
      ],
      "metadata": {
        "execution": {
          "iopub.status.busy": "2023-12-09T09:02:26.007368Z",
          "iopub.execute_input": "2023-12-09T09:02:26.007739Z",
          "iopub.status.idle": "2023-12-09T09:03:13.243864Z",
          "shell.execute_reply.started": "2023-12-09T09:02:26.007707Z",
          "shell.execute_reply": "2023-12-09T09:03:13.242976Z"
        },
        "trusted": true,
        "id": "xsx9yMGabZ6c"
      },
      "execution_count": null,
      "outputs": []
    },
    {
      "cell_type": "code",
      "source": [
        "y_pred_probs = model.predict(test_set)\n",
        "y_true_list = [y.numpy() for _, y in test_set_raw]\n",
        "y_true = np.hstack(y_true_list)\n",
        "y_pred_binary = (y_pred_probs > 0.5).astype(int)"
      ],
      "metadata": {
        "execution": {
          "iopub.status.busy": "2023-12-09T09:08:55.068685Z",
          "iopub.execute_input": "2023-12-09T09:08:55.069026Z",
          "iopub.status.idle": "2023-12-09T09:09:44.139049Z",
          "shell.execute_reply.started": "2023-12-09T09:08:55.068996Z",
          "shell.execute_reply": "2023-12-09T09:09:44.137953Z"
        },
        "trusted": true,
        "id": "RbBSw5PbbZ6c"
      },
      "execution_count": null,
      "outputs": []
    }
  ]
}